{
 "cells": [
  {
   "cell_type": "code",
   "execution_count": 1,
   "metadata": {},
   "outputs": [],
   "source": [
    "import pandas as pd\n",
    "import numpy as np"
   ]
  },
  {
   "cell_type": "code",
   "execution_count": 2,
   "metadata": {},
   "outputs": [],
   "source": [
    "data=pd.DataFrame()\n",
    "data['X']=pd.Series([95,85,80,70,60])\n",
    "data['Y']=pd.Series([85,95,70,65,70])"
   ]
  },
  {
   "cell_type": "code",
   "execution_count": 3,
   "metadata": {},
   "outputs": [],
   "source": [
    "data['Xi-Xbar_wholesquare']=np.square(data['X']-np.mean(data['X']))\n",
    "data['Yi-Ybar_wholesquare']=np.square(data['Y']-np.mean(data['Y']))"
   ]
  },
  {
   "cell_type": "code",
   "execution_count": 4,
   "metadata": {},
   "outputs": [
    {
     "data": {
      "text/html": [
       "<div>\n",
       "<style scoped>\n",
       "    .dataframe tbody tr th:only-of-type {\n",
       "        vertical-align: middle;\n",
       "    }\n",
       "\n",
       "    .dataframe tbody tr th {\n",
       "        vertical-align: top;\n",
       "    }\n",
       "\n",
       "    .dataframe thead th {\n",
       "        text-align: right;\n",
       "    }\n",
       "</style>\n",
       "<table border=\"1\" class=\"dataframe\">\n",
       "  <thead>\n",
       "    <tr style=\"text-align: right;\">\n",
       "      <th></th>\n",
       "      <th>X</th>\n",
       "      <th>Y</th>\n",
       "      <th>Xi-Xbar_wholesquare</th>\n",
       "      <th>Yi-Ybar_wholesquare</th>\n",
       "    </tr>\n",
       "  </thead>\n",
       "  <tbody>\n",
       "    <tr>\n",
       "      <th>0</th>\n",
       "      <td>95</td>\n",
       "      <td>85</td>\n",
       "      <td>289.0</td>\n",
       "      <td>64.0</td>\n",
       "    </tr>\n",
       "    <tr>\n",
       "      <th>1</th>\n",
       "      <td>85</td>\n",
       "      <td>95</td>\n",
       "      <td>49.0</td>\n",
       "      <td>324.0</td>\n",
       "    </tr>\n",
       "    <tr>\n",
       "      <th>2</th>\n",
       "      <td>80</td>\n",
       "      <td>70</td>\n",
       "      <td>4.0</td>\n",
       "      <td>49.0</td>\n",
       "    </tr>\n",
       "    <tr>\n",
       "      <th>3</th>\n",
       "      <td>70</td>\n",
       "      <td>65</td>\n",
       "      <td>64.0</td>\n",
       "      <td>144.0</td>\n",
       "    </tr>\n",
       "    <tr>\n",
       "      <th>4</th>\n",
       "      <td>60</td>\n",
       "      <td>70</td>\n",
       "      <td>324.0</td>\n",
       "      <td>49.0</td>\n",
       "    </tr>\n",
       "  </tbody>\n",
       "</table>\n",
       "</div>"
      ],
      "text/plain": [
       "    X   Y  Xi-Xbar_wholesquare  Yi-Ybar_wholesquare\n",
       "0  95  85                289.0                 64.0\n",
       "1  85  95                 49.0                324.0\n",
       "2  80  70                  4.0                 49.0\n",
       "3  70  65                 64.0                144.0\n",
       "4  60  70                324.0                 49.0"
      ]
     },
     "execution_count": 4,
     "metadata": {},
     "output_type": "execute_result"
    }
   ],
   "source": [
    "data"
   ]
  },
  {
   "cell_type": "code",
   "execution_count": 5,
   "metadata": {},
   "outputs": [],
   "source": [
    "data['X-Xbar*Y-Ybar']=(data['X']-np.mean(data['X']))*(data['Y']-np.mean(data['Y']))"
   ]
  },
  {
   "cell_type": "code",
   "execution_count": 6,
   "metadata": {},
   "outputs": [
    {
     "data": {
      "text/html": [
       "<div>\n",
       "<style scoped>\n",
       "    .dataframe tbody tr th:only-of-type {\n",
       "        vertical-align: middle;\n",
       "    }\n",
       "\n",
       "    .dataframe tbody tr th {\n",
       "        vertical-align: top;\n",
       "    }\n",
       "\n",
       "    .dataframe thead th {\n",
       "        text-align: right;\n",
       "    }\n",
       "</style>\n",
       "<table border=\"1\" class=\"dataframe\">\n",
       "  <thead>\n",
       "    <tr style=\"text-align: right;\">\n",
       "      <th></th>\n",
       "      <th>X</th>\n",
       "      <th>Y</th>\n",
       "      <th>Xi-Xbar_wholesquare</th>\n",
       "      <th>Yi-Ybar_wholesquare</th>\n",
       "      <th>X-Xbar*Y-Ybar</th>\n",
       "    </tr>\n",
       "  </thead>\n",
       "  <tbody>\n",
       "    <tr>\n",
       "      <th>0</th>\n",
       "      <td>95</td>\n",
       "      <td>85</td>\n",
       "      <td>289.0</td>\n",
       "      <td>64.0</td>\n",
       "      <td>136.0</td>\n",
       "    </tr>\n",
       "    <tr>\n",
       "      <th>1</th>\n",
       "      <td>85</td>\n",
       "      <td>95</td>\n",
       "      <td>49.0</td>\n",
       "      <td>324.0</td>\n",
       "      <td>126.0</td>\n",
       "    </tr>\n",
       "    <tr>\n",
       "      <th>2</th>\n",
       "      <td>80</td>\n",
       "      <td>70</td>\n",
       "      <td>4.0</td>\n",
       "      <td>49.0</td>\n",
       "      <td>-14.0</td>\n",
       "    </tr>\n",
       "    <tr>\n",
       "      <th>3</th>\n",
       "      <td>70</td>\n",
       "      <td>65</td>\n",
       "      <td>64.0</td>\n",
       "      <td>144.0</td>\n",
       "      <td>96.0</td>\n",
       "    </tr>\n",
       "    <tr>\n",
       "      <th>4</th>\n",
       "      <td>60</td>\n",
       "      <td>70</td>\n",
       "      <td>324.0</td>\n",
       "      <td>49.0</td>\n",
       "      <td>126.0</td>\n",
       "    </tr>\n",
       "  </tbody>\n",
       "</table>\n",
       "</div>"
      ],
      "text/plain": [
       "    X   Y  Xi-Xbar_wholesquare  Yi-Ybar_wholesquare  X-Xbar*Y-Ybar\n",
       "0  95  85                289.0                 64.0          136.0\n",
       "1  85  95                 49.0                324.0          126.0\n",
       "2  80  70                  4.0                 49.0          -14.0\n",
       "3  70  65                 64.0                144.0           96.0\n",
       "4  60  70                324.0                 49.0          126.0"
      ]
     },
     "execution_count": 6,
     "metadata": {},
     "output_type": "execute_result"
    }
   ],
   "source": [
    "data"
   ]
  },
  {
   "cell_type": "code",
   "execution_count": 7,
   "metadata": {},
   "outputs": [],
   "source": [
    "b1=np.sum(data['X-Xbar*Y-Ybar'])/np.sum(data['Xi-Xbar_wholesquare'])\n",
    "b0=np.mean(data['Y'])-np.mean(data['X'])*b1"
   ]
  },
  {
   "cell_type": "code",
   "execution_count": 8,
   "metadata": {},
   "outputs": [
    {
     "data": {
      "text/plain": [
       "0.6438356164383562"
      ]
     },
     "execution_count": 8,
     "metadata": {},
     "output_type": "execute_result"
    }
   ],
   "source": [
    "b1"
   ]
  },
  {
   "cell_type": "code",
   "execution_count": 9,
   "metadata": {},
   "outputs": [
    {
     "data": {
      "text/plain": [
       "26.78082191780822"
      ]
     },
     "execution_count": 9,
     "metadata": {},
     "output_type": "execute_result"
    }
   ],
   "source": [
    "b0"
   ]
  },
  {
   "cell_type": "markdown",
   "metadata": {},
   "source": [
    "y=b0+b1*x"
   ]
  },
  {
   "cell_type": "code",
   "execution_count": 10,
   "metadata": {},
   "outputs": [],
   "source": [
    "data['Ypred']=b0+b1*data['X']"
   ]
  },
  {
   "cell_type": "code",
   "execution_count": 11,
   "metadata": {},
   "outputs": [
    {
     "data": {
      "text/html": [
       "<div>\n",
       "<style scoped>\n",
       "    .dataframe tbody tr th:only-of-type {\n",
       "        vertical-align: middle;\n",
       "    }\n",
       "\n",
       "    .dataframe tbody tr th {\n",
       "        vertical-align: top;\n",
       "    }\n",
       "\n",
       "    .dataframe thead th {\n",
       "        text-align: right;\n",
       "    }\n",
       "</style>\n",
       "<table border=\"1\" class=\"dataframe\">\n",
       "  <thead>\n",
       "    <tr style=\"text-align: right;\">\n",
       "      <th></th>\n",
       "      <th>X</th>\n",
       "      <th>Y</th>\n",
       "      <th>Xi-Xbar_wholesquare</th>\n",
       "      <th>Yi-Ybar_wholesquare</th>\n",
       "      <th>X-Xbar*Y-Ybar</th>\n",
       "      <th>Ypred</th>\n",
       "    </tr>\n",
       "  </thead>\n",
       "  <tbody>\n",
       "    <tr>\n",
       "      <th>0</th>\n",
       "      <td>95</td>\n",
       "      <td>85</td>\n",
       "      <td>289.0</td>\n",
       "      <td>64.0</td>\n",
       "      <td>136.0</td>\n",
       "      <td>87.945205</td>\n",
       "    </tr>\n",
       "    <tr>\n",
       "      <th>1</th>\n",
       "      <td>85</td>\n",
       "      <td>95</td>\n",
       "      <td>49.0</td>\n",
       "      <td>324.0</td>\n",
       "      <td>126.0</td>\n",
       "      <td>81.506849</td>\n",
       "    </tr>\n",
       "    <tr>\n",
       "      <th>2</th>\n",
       "      <td>80</td>\n",
       "      <td>70</td>\n",
       "      <td>4.0</td>\n",
       "      <td>49.0</td>\n",
       "      <td>-14.0</td>\n",
       "      <td>78.287671</td>\n",
       "    </tr>\n",
       "    <tr>\n",
       "      <th>3</th>\n",
       "      <td>70</td>\n",
       "      <td>65</td>\n",
       "      <td>64.0</td>\n",
       "      <td>144.0</td>\n",
       "      <td>96.0</td>\n",
       "      <td>71.849315</td>\n",
       "    </tr>\n",
       "    <tr>\n",
       "      <th>4</th>\n",
       "      <td>60</td>\n",
       "      <td>70</td>\n",
       "      <td>324.0</td>\n",
       "      <td>49.0</td>\n",
       "      <td>126.0</td>\n",
       "      <td>65.410959</td>\n",
       "    </tr>\n",
       "  </tbody>\n",
       "</table>\n",
       "</div>"
      ],
      "text/plain": [
       "    X   Y  Xi-Xbar_wholesquare  Yi-Ybar_wholesquare  X-Xbar*Y-Ybar      Ypred\n",
       "0  95  85                289.0                 64.0          136.0  87.945205\n",
       "1  85  95                 49.0                324.0          126.0  81.506849\n",
       "2  80  70                  4.0                 49.0          -14.0  78.287671\n",
       "3  70  65                 64.0                144.0           96.0  71.849315\n",
       "4  60  70                324.0                 49.0          126.0  65.410959"
      ]
     },
     "execution_count": 11,
     "metadata": {},
     "output_type": "execute_result"
    }
   ],
   "source": [
    "data"
   ]
  },
  {
   "cell_type": "code",
   "execution_count": 22,
   "metadata": {},
   "outputs": [
    {
     "data": {
      "application/javascript": [
       "const spec = {\"config\": {\"view\": {\"width\": 400, \"height\": 300}, \"mark\": {\"tooltip\": null}}, \"layer\": [{\"mark\": {\"type\": \"point\", \"color\": \"green\"}, \"encoding\": {\"x\": {\"type\": \"quantitative\", \"field\": \"X\", \"title\": \"X\"}, \"y\": {\"type\": \"quantitative\", \"field\": \"Y\", \"title\": \"Y\"}}}, {\"mark\": {\"type\": \"circle\", \"color\": \"red\"}, \"encoding\": {\"x\": {\"type\": \"quantitative\", \"field\": \"X\", \"title\": \"X\"}, \"y\": {\"type\": \"quantitative\", \"field\": \"Ypred\", \"title\": \"Ypred\"}}}], \"data\": {\"name\": \"data-857f0525ef79ad8f5c0873096e07c9c4\"}, \"$schema\": \"https://vega.github.io/schema/vega-lite/v3.4.0.json\", \"datasets\": {\"data-857f0525ef79ad8f5c0873096e07c9c4\": [{\"X\": 95, \"Y\": 85, \"Xi-Xbar_wholesquare\": 289.0, \"Yi-Ybar_wholesquare\": 64.0, \"X-Xbar*Y-Ybar\": 136.0, \"Ypred\": 87.94520547945206}, {\"X\": 85, \"Y\": 95, \"Xi-Xbar_wholesquare\": 49.0, \"Yi-Ybar_wholesquare\": 324.0, \"X-Xbar*Y-Ybar\": 126.0, \"Ypred\": 81.5068493150685}, {\"X\": 80, \"Y\": 70, \"Xi-Xbar_wholesquare\": 4.0, \"Yi-Ybar_wholesquare\": 49.0, \"X-Xbar*Y-Ybar\": -14.0, \"Ypred\": 78.2876712328767}, {\"X\": 70, \"Y\": 65, \"Xi-Xbar_wholesquare\": 64.0, \"Yi-Ybar_wholesquare\": 144.0, \"X-Xbar*Y-Ybar\": 96.0, \"Ypred\": 71.84931506849315}, {\"X\": 60, \"Y\": 70, \"Xi-Xbar_wholesquare\": 324.0, \"Yi-Ybar_wholesquare\": 49.0, \"X-Xbar*Y-Ybar\": 126.0, \"Ypred\": 65.41095890410959}]}};\n",
       "const opt = {};\n",
       "const type = \"vega-lite\";\n",
       "const id = \"790e7947-2730-4999-8770-8e9b0af0ca33\";\n",
       "\n",
       "const output_area = this;\n",
       "\n",
       "require([\"nbextensions/jupyter-vega/index\"], function(vega) {\n",
       "  const target = document.createElement(\"div\");\n",
       "  target.id = id;\n",
       "  target.className = \"vega-embed\";\n",
       "\n",
       "  const style = document.createElement(\"style\");\n",
       "  style.textContent = [\n",
       "    \".vega-embed .error p {\",\n",
       "    \"  color: firebrick;\",\n",
       "    \"  font-size: 14px;\",\n",
       "    \"}\",\n",
       "  ].join(\"\\\\n\");\n",
       "\n",
       "  // element is a jQuery wrapped DOM element inside the output area\n",
       "  // see http://ipython.readthedocs.io/en/stable/api/generated/\\\n",
       "  // IPython.display.html#IPython.display.Javascript.__init__\n",
       "  element[0].appendChild(target);\n",
       "  element[0].appendChild(style);\n",
       "\n",
       "  vega.render(\"#\" + id, spec, type, opt, output_area);\n",
       "}, function (err) {\n",
       "  if (err.requireType !== \"scripterror\") {\n",
       "    throw(err);\n",
       "  }\n",
       "});\n"
      ],
      "text/plain": [
       "<vega.vegalite.VegaLite at 0x1cecb4c3248>"
      ]
     },
     "metadata": {
      "jupyter-vega": "#790e7947-2730-4999-8770-8e9b0af0ca33"
     },
     "output_type": "display_data"
    },
    {
     "data": {
      "text/plain": []
     },
     "execution_count": 22,
     "metadata": {},
     "output_type": "execute_result"
    },
    {
     "data": {
      "image/png": "[encoded data removed]"
     },
     "metadata": {
      "jupyter-vega": "#790e7947-2730-4999-8770-8e9b0af0ca33"
     },
     "output_type": "display_data"
    }
   ],
   "source": [
    "import altair as alt\n",
    "alt.renderers.enable('notebook')\n",
    "points = alt.Chart(data).mark_point(color='green').encode(\n",
    "    x=alt.X('X', title='X'),\n",
    "    y=alt.Y('Y',title='Y') \n",
    ")\n",
    "points1 = alt.Chart(data).mark_circle(color='red').encode(\n",
    "    x=alt.X('X', title='X'),\n",
    "    y=alt.Y('Ypred',title='Ypred') \n",
    ")\n",
    "points+points1"
   ]
  },
  {
   "cell_type": "code",
   "execution_count": 45,
   "metadata": {},
   "outputs": [],
   "source": [
    "line=pd.DataFrame()\n",
    "line['X']=pd.Series(np.arange(np.min(data['X']),np.max(data['X'])))\n",
    "line['Y']=b0+b1*line['X']"
   ]
  },
  {
   "cell_type": "code",
   "execution_count": 51,
   "metadata": {},
   "outputs": [],
   "source": [
    "lower_limit=20\n",
    "upper_limit=20\n",
    "over_boundary_line=pd.DataFrame()\n",
    "over_boundary_line['X']=pd.Series(np.arange(np.min(data['X'])-lower_limit,np.min(data['X']))).append(pd.Series(np.arange(np.max(data['X']),np.max(data['X'])+upper_limit)),ignore_index=True)\n",
    "over_boundary_line['Y']=b0+b1*over_boundary_line['X']"
   ]
  },
  {
   "cell_type": "code",
   "execution_count": 53,
   "metadata": {},
   "outputs": [
    {
     "data": {
      "application/javascript": [
       "const spec = {\"config\": {\"view\": {\"width\": 400, \"height\": 300}, \"mark\": {\"tooltip\": null}}, \"layer\": [{\"data\": {\"name\": \"data-857f0525ef79ad8f5c0873096e07c9c4\"}, \"mark\": {\"type\": \"point\", \"color\": \"green\"}, \"encoding\": {\"x\": {\"type\": \"quantitative\", \"field\": \"X\", \"title\": \"X\"}, \"y\": {\"type\": \"quantitative\", \"field\": \"Y\", \"title\": \"Y\"}}}, {\"data\": {\"name\": \"data-cb433fd881e92a8ab1cc496e6a049f4e\"}, \"mark\": {\"type\": \"line\", \"color\": \"red\", \"size\": 1}, \"encoding\": {\"x\": {\"type\": \"quantitative\", \"field\": \"X\"}, \"y\": {\"type\": \"quantitative\", \"field\": \"Y\"}}}, {\"data\": {\"name\": \"data-2ca7e5bd527a3ee5149cb26274e8a814\"}, \"mark\": {\"type\": \"line\", \"size\": 3}, \"encoding\": {\"x\": {\"type\": \"quantitative\", \"field\": \"X\"}, \"y\": {\"type\": \"quantitative\", \"field\": \"Y\"}}}], \"$schema\": \"https://vega.github.io/schema/vega-lite/v3.4.0.json\", \"datasets\": {\"data-857f0525ef79ad8f5c0873096e07c9c4\": [{\"X\": 95, \"Y\": 85, \"Xi-Xbar_wholesquare\": 289.0, \"Yi-Ybar_wholesquare\": 64.0, \"X-Xbar*Y-Ybar\": 136.0, \"Ypred\": 87.94520547945206}, {\"X\": 85, \"Y\": 95, \"Xi-Xbar_wholesquare\": 49.0, \"Yi-Ybar_wholesquare\": 324.0, \"X-Xbar*Y-Ybar\": 126.0, \"Ypred\": 81.5068493150685}, {\"X\": 80, \"Y\": 70, \"Xi-Xbar_wholesquare\": 4.0, \"Yi-Ybar_wholesquare\": 49.0, \"X-Xbar*Y-Ybar\": -14.0, \"Ypred\": 78.2876712328767}, {\"X\": 70, \"Y\": 65, \"Xi-Xbar_wholesquare\": 64.0, \"Yi-Ybar_wholesquare\": 144.0, \"X-Xbar*Y-Ybar\": 96.0, \"Ypred\": 71.84931506849315}, {\"X\": 60, \"Y\": 70, \"Xi-Xbar_wholesquare\": 324.0, \"Yi-Ybar_wholesquare\": 49.0, \"X-Xbar*Y-Ybar\": 126.0, \"Ypred\": 65.41095890410959}], \"data-cb433fd881e92a8ab1cc496e6a049f4e\": [{\"X\": 40, \"Y\": 52.534246575342465}, {\"X\": 41, \"Y\": 53.17808219178082}, {\"X\": 42, \"Y\": 53.82191780821918}, {\"X\": 43, \"Y\": 54.465753424657535}, {\"X\": 44, \"Y\": 55.10958904109589}, {\"X\": 45, \"Y\": 55.75342465753425}, {\"X\": 46, \"Y\": 56.397260273972606}, {\"X\": 47, \"Y\": 57.04109589041096}, {\"X\": 48, \"Y\": 57.68493150684932}, {\"X\": 49, \"Y\": 58.328767123287676}, {\"X\": 50, \"Y\": 58.97260273972603}, {\"X\": 51, \"Y\": 59.61643835616438}, {\"X\": 52, \"Y\": 60.26027397260274}, {\"X\": 53, \"Y\": 60.9041095890411}, {\"X\": 54, \"Y\": 61.54794520547945}, {\"X\": 55, \"Y\": 62.19178082191781}, {\"X\": 56, \"Y\": 62.83561643835616}, {\"X\": 57, \"Y\": 63.47945205479452}, {\"X\": 58, \"Y\": 64.12328767123287}, {\"X\": 59, \"Y\": 64.76712328767124}, {\"X\": 95, \"Y\": 87.94520547945206}, {\"X\": 96, \"Y\": 88.58904109589042}, {\"X\": 97, \"Y\": 89.23287671232876}, {\"X\": 98, \"Y\": 89.87671232876713}, {\"X\": 99, \"Y\": 90.52054794520548}, {\"X\": 100, \"Y\": 91.16438356164383}, {\"X\": 101, \"Y\": 91.8082191780822}, {\"X\": 102, \"Y\": 92.45205479452054}, {\"X\": 103, \"Y\": 93.0958904109589}, {\"X\": 104, \"Y\": 93.73972602739727}, {\"X\": 105, \"Y\": 94.3835616438356}, {\"X\": 106, \"Y\": 95.02739726027397}, {\"X\": 107, \"Y\": 95.67123287671234}, {\"X\": 108, \"Y\": 96.31506849315068}, {\"X\": 109, \"Y\": 96.95890410958904}, {\"X\": 110, \"Y\": 97.60273972602741}, {\"X\": 111, \"Y\": 98.24657534246575}, {\"X\": 112, \"Y\": 98.89041095890411}, {\"X\": 113, \"Y\": 99.53424657534248}, {\"X\": 114, \"Y\": 100.17808219178082}], \"data-2ca7e5bd527a3ee5149cb26274e8a814\": [{\"X\": 60, \"Y\": 65.41095890410959}, {\"X\": 61, \"Y\": 66.05479452054794}, {\"X\": 62, \"Y\": 66.69863013698631}, {\"X\": 63, \"Y\": 67.34246575342465}, {\"X\": 64, \"Y\": 67.98630136986301}, {\"X\": 65, \"Y\": 68.63013698630138}, {\"X\": 66, \"Y\": 69.27397260273972}, {\"X\": 67, \"Y\": 69.91780821917808}, {\"X\": 68, \"Y\": 70.56164383561644}, {\"X\": 69, \"Y\": 71.20547945205479}, {\"X\": 70, \"Y\": 71.84931506849315}, {\"X\": 71, \"Y\": 72.4931506849315}, {\"X\": 72, \"Y\": 73.13698630136986}, {\"X\": 73, \"Y\": 73.78082191780823}, {\"X\": 74, \"Y\": 74.42465753424658}, {\"X\": 75, \"Y\": 75.06849315068493}, {\"X\": 76, \"Y\": 75.7123287671233}, {\"X\": 77, \"Y\": 76.35616438356165}, {\"X\": 78, \"Y\": 77.0}, {\"X\": 79, \"Y\": 77.64383561643837}, {\"X\": 80, \"Y\": 78.2876712328767}, {\"X\": 81, \"Y\": 78.93150684931507}, {\"X\": 82, \"Y\": 79.57534246575342}, {\"X\": 83, \"Y\": 80.21917808219177}, {\"X\": 84, \"Y\": 80.86301369863014}, {\"X\": 85, \"Y\": 81.5068493150685}, {\"X\": 86, \"Y\": 82.15068493150685}, {\"X\": 87, \"Y\": 82.79452054794521}, {\"X\": 88, \"Y\": 83.43835616438356}, {\"X\": 89, \"Y\": 84.08219178082192}, {\"X\": 90, \"Y\": 84.72602739726028}, {\"X\": 91, \"Y\": 85.36986301369863}, {\"X\": 92, \"Y\": 86.01369863013699}, {\"X\": 93, \"Y\": 86.65753424657535}, {\"X\": 94, \"Y\": 87.30136986301369}]}};\n",
       "const opt = {};\n",
       "const type = \"vega-lite\";\n",
       "const id = \"cdc14324-20cf-4d99-aea4-2de6c35c6cb5\";\n",
       "\n",
       "const output_area = this;\n",
       "\n",
       "require([\"nbextensions/jupyter-vega/index\"], function(vega) {\n",
       "  const target = document.createElement(\"div\");\n",
       "  target.id = id;\n",
       "  target.className = \"vega-embed\";\n",
       "\n",
       "  const style = document.createElement(\"style\");\n",
       "  style.textContent = [\n",
       "    \".vega-embed .error p {\",\n",
       "    \"  color: firebrick;\",\n",
       "    \"  font-size: 14px;\",\n",
       "    \"}\",\n",
       "  ].join(\"\\\\n\");\n",
       "\n",
       "  // element is a jQuery wrapped DOM element inside the output area\n",
       "  // see http://ipython.readthedocs.io/en/stable/api/generated/\\\n",
       "  // IPython.display.html#IPython.display.Javascript.__init__\n",
       "  element[0].appendChild(target);\n",
       "  element[0].appendChild(style);\n",
       "\n",
       "  vega.render(\"#\" + id, spec, type, opt, output_area);\n",
       "}, function (err) {\n",
       "  if (err.requireType !== \"scripterror\") {\n",
       "    throw(err);\n",
       "  }\n",
       "});\n"
      ],
      "text/plain": [
       "<vega.vegalite.VegaLite at 0x1cecc030108>"
      ]
     },
     "metadata": {
      "jupyter-vega": "#cdc14324-20cf-4d99-aea4-2de6c35c6cb5"
     },
     "output_type": "display_data"
    },
    {
     "data": {
      "image/png": "[encoded data removed]"
     },
     "metadata": {
      "jupyter-vega": "#cdc14324-20cf-4d99-aea4-2de6c35c6cb5"
     },
     "output_type": "display_data"
    },
    {
     "data": {
      "text/plain": []
     },
     "execution_count": 53,
     "metadata": {},
     "output_type": "execute_result"
    }
   ],
   "source": [
    "points = alt.Chart(data).mark_point(color='green').encode(\n",
    "    x=alt.X('X', title='X'),\n",
    "    y=alt.Y('Y',title='Y') \n",
    ")\n",
    "regression_line=alt.Chart(line).mark_line(size=3).encode(\n",
    "    x=alt.X('X'),\n",
    "    y=alt.Y('Y')\n",
    ")\n",
    "over_boundary_regression_line=alt.Chart(over_boundary_line).mark_line(size=1,color='red').encode(\n",
    "    x=alt.X('X'),\n",
    "    y=alt.Y('Y')\n",
    ")\n",
    "points+over_boundary_regression_line+regression_line"
   ]
  },
  {
   "cell_type": "code",
   "execution_count": 49,
   "metadata": {},
   "outputs": [
    {
     "data": {
      "application/javascript": [
       "const spec = {\"config\": {\"view\": {\"width\": 400, \"height\": 300}, \"mark\": {\"tooltip\": null}}, \"layer\": [{\"mark\": {\"type\": \"point\", \"color\": \"green\"}, \"encoding\": {\"x\": {\"type\": \"quantitative\", \"field\": \"X\", \"title\": \"X\"}, \"y\": {\"type\": \"quantitative\", \"field\": \"Y\", \"title\": \"Y\"}}}, {\"mark\": {\"type\": \"circle\", \"color\": \"red\"}, \"encoding\": {\"x\": {\"type\": \"quantitative\", \"field\": \"X\", \"title\": \"X\"}, \"y\": {\"type\": \"quantitative\", \"field\": \"Ypred\", \"title\": \"Ypred\"}}}], \"data\": {\"name\": \"data-857f0525ef79ad8f5c0873096e07c9c4\"}, \"$schema\": \"https://vega.github.io/schema/vega-lite/v3.4.0.json\", \"datasets\": {\"data-857f0525ef79ad8f5c0873096e07c9c4\": [{\"X\": 95, \"Y\": 85, \"Xi-Xbar_wholesquare\": 289.0, \"Yi-Ybar_wholesquare\": 64.0, \"X-Xbar*Y-Ybar\": 136.0, \"Ypred\": 87.94520547945206}, {\"X\": 85, \"Y\": 95, \"Xi-Xbar_wholesquare\": 49.0, \"Yi-Ybar_wholesquare\": 324.0, \"X-Xbar*Y-Ybar\": 126.0, \"Ypred\": 81.5068493150685}, {\"X\": 80, \"Y\": 70, \"Xi-Xbar_wholesquare\": 4.0, \"Yi-Ybar_wholesquare\": 49.0, \"X-Xbar*Y-Ybar\": -14.0, \"Ypred\": 78.2876712328767}, {\"X\": 70, \"Y\": 65, \"Xi-Xbar_wholesquare\": 64.0, \"Yi-Ybar_wholesquare\": 144.0, \"X-Xbar*Y-Ybar\": 96.0, \"Ypred\": 71.84931506849315}, {\"X\": 60, \"Y\": 70, \"Xi-Xbar_wholesquare\": 324.0, \"Yi-Ybar_wholesquare\": 49.0, \"X-Xbar*Y-Ybar\": 126.0, \"Ypred\": 65.41095890410959}]}};\n",
       "const opt = {};\n",
       "const type = \"vega-lite\";\n",
       "const id = \"f0714fa5-1c56-41e0-bd95-42d6e530d2aa\";\n",
       "\n",
       "const output_area = this;\n",
       "\n",
       "require([\"nbextensions/jupyter-vega/index\"], function(vega) {\n",
       "  const target = document.createElement(\"div\");\n",
       "  target.id = id;\n",
       "  target.className = \"vega-embed\";\n",
       "\n",
       "  const style = document.createElement(\"style\");\n",
       "  style.textContent = [\n",
       "    \".vega-embed .error p {\",\n",
       "    \"  color: firebrick;\",\n",
       "    \"  font-size: 14px;\",\n",
       "    \"}\",\n",
       "  ].join(\"\\\\n\");\n",
       "\n",
       "  // element is a jQuery wrapped DOM element inside the output area\n",
       "  // see http://ipython.readthedocs.io/en/stable/api/generated/\\\n",
       "  // IPython.display.html#IPython.display.Javascript.__init__\n",
       "  element[0].appendChild(target);\n",
       "  element[0].appendChild(style);\n",
       "\n",
       "  vega.render(\"#\" + id, spec, type, opt, output_area);\n",
       "}, function (err) {\n",
       "  if (err.requireType !== \"scripterror\") {\n",
       "    throw(err);\n",
       "  }\n",
       "});\n"
      ],
      "text/plain": [
       "<vega.vegalite.VegaLite at 0x1cecc034c88>"
      ]
     },
     "metadata": {
      "jupyter-vega": "#f0714fa5-1c56-41e0-bd95-42d6e530d2aa"
     },
     "output_type": "display_data"
    },
    {
     "data": {
      "text/plain": []
     },
     "execution_count": 49,
     "metadata": {},
     "output_type": "execute_result"
    },
    {
     "data": {
      "image/png": "[encoded data removed]"
     },
     "metadata": {
      "jupyter-vega": "#f0714fa5-1c56-41e0-bd95-42d6e530d2aa"
     },
     "output_type": "display_data"
    }
   ],
   "source": [
    "points = alt.Chart(data).mark_point(color='green').encode(\n",
    "    x=alt.X('X', title='X'),\n",
    "    y=alt.Y('Y',title='Y') \n",
    ")\n",
    "points1 = alt.Chart(data).mark_circle(color='red').encode(\n",
    "    x=alt.X('X', title='X'),\n",
    "    y=alt.Y('Ypred',title='Ypred') \n",
    ")\n",
    "points+points1"
   ]
  },
  {
   "cell_type": "code",
   "execution_count": 54,
   "metadata": {},
   "outputs": [
    {
     "data": {
      "text/html": [
       "<div>\n",
       "<style scoped>\n",
       "    .dataframe tbody tr th:only-of-type {\n",
       "        vertical-align: middle;\n",
       "    }\n",
       "\n",
       "    .dataframe tbody tr th {\n",
       "        vertical-align: top;\n",
       "    }\n",
       "\n",
       "    .dataframe thead th {\n",
       "        text-align: right;\n",
       "    }\n",
       "</style>\n",
       "<table border=\"1\" class=\"dataframe\">\n",
       "  <thead>\n",
       "    <tr style=\"text-align: right;\">\n",
       "      <th></th>\n",
       "      <th>X</th>\n",
       "      <th>Y</th>\n",
       "      <th>Ypred</th>\n",
       "    </tr>\n",
       "  </thead>\n",
       "  <tbody>\n",
       "    <tr>\n",
       "      <th>0</th>\n",
       "      <td>95</td>\n",
       "      <td>85</td>\n",
       "      <td>87.945205</td>\n",
       "    </tr>\n",
       "    <tr>\n",
       "      <th>1</th>\n",
       "      <td>85</td>\n",
       "      <td>95</td>\n",
       "      <td>81.506849</td>\n",
       "    </tr>\n",
       "    <tr>\n",
       "      <th>2</th>\n",
       "      <td>80</td>\n",
       "      <td>70</td>\n",
       "      <td>78.287671</td>\n",
       "    </tr>\n",
       "    <tr>\n",
       "      <th>3</th>\n",
       "      <td>70</td>\n",
       "      <td>65</td>\n",
       "      <td>71.849315</td>\n",
       "    </tr>\n",
       "    <tr>\n",
       "      <th>4</th>\n",
       "      <td>60</td>\n",
       "      <td>70</td>\n",
       "      <td>65.410959</td>\n",
       "    </tr>\n",
       "  </tbody>\n",
       "</table>\n",
       "</div>"
      ],
      "text/plain": [
       "    X   Y      Ypred\n",
       "0  95  85  87.945205\n",
       "1  85  95  81.506849\n",
       "2  80  70  78.287671\n",
       "3  70  65  71.849315\n",
       "4  60  70  65.410959"
      ]
     },
     "execution_count": 54,
     "metadata": {},
     "output_type": "execute_result"
    }
   ],
   "source": [
    "data[['X','Y','Ypred']]"
   ]
  },
  {
   "cell_type": "code",
   "execution_count": 55,
   "metadata": {},
   "outputs": [],
   "source": [
    "data['error']=data['Y']-data['Ypred']"
   ]
  },
  {
   "cell_type": "code",
   "execution_count": 76,
   "metadata": {},
   "outputs": [
    {
     "data": {
      "text/html": [
       "<div>\n",
       "<style scoped>\n",
       "    .dataframe tbody tr th:only-of-type {\n",
       "        vertical-align: middle;\n",
       "    }\n",
       "\n",
       "    .dataframe tbody tr th {\n",
       "        vertical-align: top;\n",
       "    }\n",
       "\n",
       "    .dataframe thead th {\n",
       "        text-align: right;\n",
       "    }\n",
       "</style>\n",
       "<table border=\"1\" class=\"dataframe\">\n",
       "  <thead>\n",
       "    <tr style=\"text-align: right;\">\n",
       "      <th></th>\n",
       "      <th>X</th>\n",
       "      <th>Y</th>\n",
       "      <th>Ypred</th>\n",
       "      <th>error</th>\n",
       "    </tr>\n",
       "  </thead>\n",
       "  <tbody>\n",
       "    <tr>\n",
       "      <th>0</th>\n",
       "      <td>95</td>\n",
       "      <td>85</td>\n",
       "      <td>87.945205</td>\n",
       "      <td>-2.945205</td>\n",
       "    </tr>\n",
       "    <tr>\n",
       "      <th>1</th>\n",
       "      <td>85</td>\n",
       "      <td>95</td>\n",
       "      <td>81.506849</td>\n",
       "      <td>13.493151</td>\n",
       "    </tr>\n",
       "    <tr>\n",
       "      <th>2</th>\n",
       "      <td>80</td>\n",
       "      <td>70</td>\n",
       "      <td>78.287671</td>\n",
       "      <td>-8.287671</td>\n",
       "    </tr>\n",
       "    <tr>\n",
       "      <th>3</th>\n",
       "      <td>70</td>\n",
       "      <td>65</td>\n",
       "      <td>71.849315</td>\n",
       "      <td>-6.849315</td>\n",
       "    </tr>\n",
       "    <tr>\n",
       "      <th>4</th>\n",
       "      <td>60</td>\n",
       "      <td>70</td>\n",
       "      <td>65.410959</td>\n",
       "      <td>4.589041</td>\n",
       "    </tr>\n",
       "  </tbody>\n",
       "</table>\n",
       "</div>"
      ],
      "text/plain": [
       "    X   Y      Ypred      error\n",
       "0  95  85  87.945205  -2.945205\n",
       "1  85  95  81.506849  13.493151\n",
       "2  80  70  78.287671  -8.287671\n",
       "3  70  65  71.849315  -6.849315\n",
       "4  60  70  65.410959   4.589041"
      ]
     },
     "execution_count": 76,
     "metadata": {},
     "output_type": "execute_result"
    }
   ],
   "source": [
    "data[['X','Y','Ypred','error']]"
   ]
  },
  {
   "cell_type": "code",
   "execution_count": 77,
   "metadata": {},
   "outputs": [],
   "source": [
    "rmse=np.sqrt(np.sum(np.square(data['error']))/(len(data)-1))"
   ]
  },
  {
   "cell_type": "code",
   "execution_count": 78,
   "metadata": {},
   "outputs": [
    {
     "data": {
      "text/plain": [
       "9.047061128813771"
      ]
     },
     "execution_count": 78,
     "metadata": {},
     "output_type": "execute_result"
    }
   ],
   "source": [
    "rmse"
   ]
  },
  {
   "cell_type": "code",
   "execution_count": 69,
   "metadata": {},
   "outputs": [
    {
     "data": {
      "text/plain": [
       "0.6930525298193004"
      ]
     },
     "execution_count": 69,
     "metadata": {},
     "output_type": "execute_result"
    }
   ],
   "source": [
    "from CorrelationCoefficent import correlation,standardDeviation\n",
    "correlation(np.array(data['X']),np.array(data['Y']))"
   ]
  },
  {
   "cell_type": "code",
   "execution_count": 70,
   "metadata": {},
   "outputs": [],
   "source": [
    "rmse=np.sqrt(1-np.square(correlation(np.array(data['X']),np.array(data['Y']))))*standardDeviation(data['Y'])"
   ]
  },
  {
   "cell_type": "code",
   "execution_count": 71,
   "metadata": {},
   "outputs": [
    {
     "data": {
      "text/plain": [
       "9.047061128813773"
      ]
     },
     "execution_count": 71,
     "metadata": {},
     "output_type": "execute_result"
    }
   ],
   "source": [
    "rmse"
   ]
  },
  {
   "cell_type": "code",
   "execution_count": 87,
   "metadata": {},
   "outputs": [],
   "source": [
    "from simpleLinearRegressionManual import simpleRegressionCoeefficients"
   ]
  },
  {
   "cell_type": "code",
   "execution_count": 88,
   "metadata": {},
   "outputs": [
    {
     "data": {
      "text/plain": [
       "[26.78082191780822, 0.6438356164383562]"
      ]
     },
     "execution_count": 88,
     "metadata": {},
     "output_type": "execute_result"
    }
   ],
   "source": [
    "simpleRegressionCoeefficients(np.array([95,85,80,70,60]),np.array([85,95,70,65,70]))"
   ]
  },
  {
   "cell_type": "code",
   "execution_count": 89,
   "metadata": {},
   "outputs": [
    {
     "data": {
      "text/plain": [
       "9.047061128813771"
      ]
     },
     "execution_count": 89,
     "metadata": {},
     "output_type": "execute_result"
    }
   ],
   "source": [
    "from simpleLinearRegressionManual import rmse\n",
    "rmse(np.array([95,85,80,70,60]),np.array([85,95,70,65,70]))"
   ]
  },
  {
   "cell_type": "markdown",
   "metadata": {},
   "source": [
    "Actually our data is very small to do test and train slipt so we will train with all the data available."
   ]
  },
  {
   "cell_type": "code",
   "execution_count": 90,
   "metadata": {},
   "outputs": [],
   "source": [
    "from sklearn import linear_model"
   ]
  },
  {
   "cell_type": "code",
   "execution_count": 137,
   "metadata": {},
   "outputs": [],
   "source": [
    "regressor=linear_model.LinearRegression()"
   ]
  },
  {
   "cell_type": "code",
   "execution_count": 138,
   "metadata": {},
   "outputs": [
    {
     "data": {
      "text/plain": [
       "LinearRegression(copy_X=True, fit_intercept=True, n_jobs=None, normalize=False)"
      ]
     },
     "execution_count": 138,
     "metadata": {},
     "output_type": "execute_result"
    }
   ],
   "source": [
    "x=np.array([95,85,80,70,60]).reshape(-1,1)\n",
    "y=np.array([85,95,70,65,70])\n",
    "regressor.fit(x,y)"
   ]
  },
  {
   "cell_type": "code",
   "execution_count": 141,
   "metadata": {},
   "outputs": [
    {
     "data": {
      "text/plain": [
       "26.780821917808225"
      ]
     },
     "execution_count": 141,
     "metadata": {},
     "output_type": "execute_result"
    }
   ],
   "source": [
    "regressor.intercept_"
   ]
  },
  {
   "cell_type": "code",
   "execution_count": 142,
   "metadata": {},
   "outputs": [
    {
     "data": {
      "text/plain": [
       "array([0.64383562])"
      ]
     },
     "execution_count": 142,
     "metadata": {},
     "output_type": "execute_result"
    }
   ],
   "source": [
    "regressor.coef_"
   ]
  },
  {
   "cell_type": "code",
   "execution_count": 149,
   "metadata": {},
   "outputs": [
    {
     "data": {
      "text/plain": [
       "array([87.94520548])"
      ]
     },
     "execution_count": 149,
     "metadata": {},
     "output_type": "execute_result"
    }
   ],
   "source": [
    "regressor.predict(np.array([95]).reshape(-1,1))"
   ]
  },
  {
   "cell_type": "code",
   "execution_count": 150,
   "metadata": {},
   "outputs": [
    {
     "data": {
      "text/plain": [
       "1"
      ]
     },
     "execution_count": 150,
     "metadata": {},
     "output_type": "execute_result"
    }
   ],
   "source": [
    "regressor.rank_"
   ]
  },
  {
   "cell_type": "code",
   "execution_count": 151,
   "metadata": {},
   "outputs": [
    {
     "data": {
      "text/plain": [
       "array([27.01851217])"
      ]
     },
     "execution_count": 151,
     "metadata": {},
     "output_type": "execute_result"
    }
   ],
   "source": [
    "regressor.singular_"
   ]
  },
  {
   "cell_type": "code",
   "execution_count": 152,
   "metadata": {},
   "outputs": [
    {
     "data": {
      "text/plain": [
       "0.4803218090889325"
      ]
     },
     "execution_count": 152,
     "metadata": {},
     "output_type": "execute_result"
    }
   ],
   "source": [
    "regressor.score(x,y)"
   ]
  },
  {
   "cell_type": "markdown",
   "metadata": {},
   "source": [
    "shape of input array must be taken care of (x,1) (x,) for sklearn"
   ]
  }
 ],
 "metadata": {
  "kernelspec": {
   "display_name": "Python 3",
   "language": "python",
   "name": "python3"
  },
  "language_info": {
   "codemirror_mode": {
    "name": "ipython",
    "version": 3
   },
   "file_extension": ".py",
   "mimetype": "text/x-python",
   "name": "python",
   "nbconvert_exporter": "python",
   "pygments_lexer": "ipython3",
   "version": "3.7.4"
  }
 },
 "nbformat": 4,
 "nbformat_minor": 4
}
